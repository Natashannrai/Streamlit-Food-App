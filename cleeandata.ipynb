{
 "cells": [
  {
   "cell_type": "code",
   "execution_count": 6,
   "id": "99807269",
   "metadata": {},
   "outputs": [
    {
     "name": "stdout",
     "output_type": "stream",
     "text": [
      "     Dish Name   Country Region/City  \\\n",
      "0     Takoyaki     Japan       Osaka   \n",
      "1     Vada Pav     India      Mumbai   \n",
      "2  Funnel Cake       USA       Texas   \n",
      "3   Kathi Roll     India     Kolkata   \n",
      "4     Pad Thai  Thailand     Bangkok   \n",
      "\n",
      "                                         Ingredients  \\\n",
      "0  Octopus, Flour Batter, Bonito Flakes, Green On...   \n",
      "1                 Potato, Spices, Bread Bun, Chutney   \n",
      "2                                 Batter, Sugar, Oil   \n",
      "3           Flatbread, Egg, Chicken, Onions, Chutney   \n",
      "4    Rice Noodles, Tofu, Eggs, Peanuts, Bean Sprouts   \n",
      "\n",
      "                                         Description Cooking Method  \\\n",
      "0  Crispy and hot, often served with sauces or ch...          Fried   \n",
      "1  Crispy and hot, often served with sauces or ch...          Fried   \n",
      "2  Crispy and hot, often served with sauces or ch...          Fried   \n",
      "3         Charred to perfection with a smoky flavor.        Grilled   \n",
      "4     Quickly tossed in a hot pan with bold flavors.     Stir-Fried   \n",
      "\n",
      "   Typical Price (USD) Vegetarian  \n",
      "0                 3.28         No  \n",
      "1                 2.37        Yes  \n",
      "2                 2.78        Yes  \n",
      "3                 1.89         No  \n",
      "4                 3.48        Yes  \n",
      "Dish Name              0\n",
      "Country                0\n",
      "Region/City            0\n",
      "Ingredients            0\n",
      "Description            0\n",
      "Cooking Method         0\n",
      "Typical Price (USD)    0\n",
      "Vegetarian             0\n",
      "dtype: int64\n",
      "4500\n"
     ]
    }
   ],
   "source": [
    "#Explor and clean dataset first\n",
    "import pandas as pd\n",
    "\n",
    "##Explor data\n",
    "df = pd.read_csv(\"global_street_food.csv\")\n",
    "print(df.head())\n",
    "print(df.isnull().sum())\n",
    "print(df.shape[0])"
   ]
  },
  {
   "cell_type": "code",
   "execution_count": 8,
   "id": "4f4ecfa6",
   "metadata": {},
   "outputs": [],
   "source": [
    "df = df.drop(columns=[\"Typical Price (USD)\"])"
   ]
  },
  {
   "cell_type": "code",
   "execution_count": 9,
   "id": "6de3b752",
   "metadata": {},
   "outputs": [
    {
     "name": "stdout",
     "output_type": "stream",
     "text": [
      "Column 'Dish Name' has 4475\n",
      "Column 'Country' has 4489\n",
      "Column 'Region/City' has 4475\n",
      "Column 'Ingredients' has 4474\n",
      "Column 'Description' has 4485\n",
      "Column 'Cooking Method' has 4491\n",
      "Column 'Vegetarian' has 4498\n"
     ]
    }
   ],
   "source": [
    "###Clean duplicate data\n",
    "for col in df.columns:\n",
    "    duplicate_count = df[col].duplicated().sum()\n",
    "    print(f\"Column '{col}' has {duplicate_count}\")"
   ]
  },
  {
   "cell_type": "code",
   "execution_count": 10,
   "id": "6816720f",
   "metadata": {},
   "outputs": [
    {
     "name": "stdout",
     "output_type": "stream",
     "text": [
      "27\n"
     ]
    }
   ],
   "source": [
    "df_cleaned = df.apply(lambda x: x.str.strip().str.lower() if x.dtype == \"object\" else x)\n",
    "df_cleaned = df.drop_duplicates()\n",
    "print(df_cleaned.shape[0])"
   ]
  },
  {
   "cell_type": "code",
   "execution_count": 11,
   "id": "8aabc281",
   "metadata": {},
   "outputs": [
    {
     "name": "stdout",
     "output_type": "stream",
     "text": [
      "               Dish Name       Country   Region/City  \\\n",
      "0               Takoyaki         Japan         Osaka   \n",
      "1               Vada Pav         India        Mumbai   \n",
      "2            Funnel Cake           USA         Texas   \n",
      "3             Kathi Roll         India       Kolkata   \n",
      "4               Pad Thai      Thailand       Bangkok   \n",
      "6              Pani Puri         India         Delhi   \n",
      "7                Taiyaki         Japan         Kyoto   \n",
      "8                Gözleme        Turkey        Ankara   \n",
      "9                Kokoreç        Turkey         Izmir   \n",
      "12          Roti Sai Mai      Thailand     Ayutthaya   \n",
      "14              Yakisoba         Japan         Tokyo   \n",
      "15            Quesadilla        Mexico        Puebla   \n",
      "21                 Elote        Mexico   Guadalajara   \n",
      "23               Hot Dog           USA      New York   \n",
      "28       Tacos al Pastor        Mexico   Mexico City   \n",
      "38                 Simit        Turkey      Istanbul   \n",
      "42              Moo Ping      Thailand    Chiang Mai   \n",
      "55    Philly Cheesesteak           USA  Philadelphia   \n",
      "4000             Falafel        Israel      Tel Aviv   \n",
      "4003            Manakish       Lebanon       Tripoli   \n",
      "4004            Shawarma       Lebanon        Beirut   \n",
      "4167         Okonomiyaki         Japan     Hiroshima   \n",
      "4168            Yakisoba         Japan         Tokyo   \n",
      "4170             Taiyaki         Japan         Osaka   \n",
      "4334          Bunny Chow  South Africa        Durban   \n",
      "4335                Suya       Nigeria         Lagos   \n",
      "4336             Koshari         Egypt         Cairo   \n",
      "\n",
      "                                            Ingredients  \\\n",
      "0     Octopus, Flour Batter, Bonito Flakes, Green On...   \n",
      "1                    Potato, Spices, Bread Bun, Chutney   \n",
      "2                                    Batter, Sugar, Oil   \n",
      "3              Flatbread, Egg, Chicken, Onions, Chutney   \n",
      "4       Rice Noodles, Tofu, Eggs, Peanuts, Bean Sprouts   \n",
      "6                 Semolina, Tamarind, Chickpeas, Spices   \n",
      "7                                 Flour, Red Bean Paste   \n",
      "8                                Dough, Spinach, Cheese   \n",
      "9                        Lamb Intestines, Spices, Bread   \n",
      "12                                   Roti, Cotton Candy   \n",
      "14               Noodles, Pork, Cabbage, Yakisoba Sauce   \n",
      "15                          Tortilla, Cheese, Mushrooms   \n",
      "21                     Corn, Mayo, Cheese, Chili Powder   \n",
      "23                       Sausage, Bun, Mustard, Ketchup   \n",
      "28                    Pork, Pineapple, Onions, Cilantro   \n",
      "38                           Flour, Sesame Seeds, Yeast   \n",
      "42                       Pork, Garlic, Soy Sauce, Sugar   \n",
      "55                           Beef, Cheese, Roll, Onions   \n",
      "4000             Chickpeas, Herbs, Spices, Tahini Sauce   \n",
      "4003                      Flatbread, Za'atar, Olive Oil   \n",
      "4004            Meat, Pita Bread, Garlic Sauce, Pickles   \n",
      "4167                  Cabbage, Flour, Pork, Sauce, Mayo   \n",
      "4168                         Noodles, Vegetables, Sauce   \n",
      "4170                              Flour, Red Bean Paste   \n",
      "4334                                       Bread, Curry   \n",
      "4335                              Beef, Spices, Skewers   \n",
      "4336         Lentils, Rice, Pasta, Tomato Sauce, Onions   \n",
      "\n",
      "                                            Description  Cooking Method  \\\n",
      "0     Crispy and hot, often served with sauces or ch...           Fried   \n",
      "1     Crispy and hot, often served with sauces or ch...           Fried   \n",
      "2     Crispy and hot, often served with sauces or ch...           Fried   \n",
      "3            Charred to perfection with a smoky flavor.         Grilled   \n",
      "4        Quickly tossed in a hot pan with bold flavors.      Stir-Fried   \n",
      "6     Put together fresh with a mix of flavors and t...       Assembled   \n",
      "7         Golden brown and fluffy with a soft interior.           Baked   \n",
      "8            Charred to perfection with a smoky flavor.         Grilled   \n",
      "9            Charred to perfection with a smoky flavor.         Grilled   \n",
      "12    Put together fresh with a mix of flavors and t...       Assembled   \n",
      "14       Quickly tossed in a hot pan with bold flavors.      Stir-Fried   \n",
      "15           Charred to perfection with a smoky flavor.         Grilled   \n",
      "21        Soft and juicy, sometimes charred for flavor.  Boiled/Grilled   \n",
      "23           Charred to perfection with a smoky flavor.         Grilled   \n",
      "28           Charred to perfection with a smoky flavor.         Grilled   \n",
      "38        Golden brown and fluffy with a soft interior.           Baked   \n",
      "42           Charred to perfection with a smoky flavor.         Grilled   \n",
      "55           Charred to perfection with a smoky flavor.         Grilled   \n",
      "4000  Deep-fried chickpea balls served in pita with ...           Fried   \n",
      "4003       Flatbread topped with za'atar and olive oil.           Baked   \n",
      "4004  Sliced meat wrapped in pita bread with garlic ...         Grilled   \n",
      "4167  Savory pancake with varied fillings and toppings.       Pan-Fried   \n",
      "4168      Stir-fried noodles with vegetables and sauce.      Stir-Fried   \n",
      "4170       Fish-shaped cake filled with red bean paste.           Baked   \n",
      "4334                  Hollowed bread filled with curry.          Stewed   \n",
      "4335          Spicy meat skewers grilled to perfection.         Grilled   \n",
      "4336  A hearty mix of grains topped with spicy tomat...          Boiled   \n",
      "\n",
      "     Vegetarian  \n",
      "0            No  \n",
      "1           Yes  \n",
      "2           Yes  \n",
      "3            No  \n",
      "4           Yes  \n",
      "6           Yes  \n",
      "7           Yes  \n",
      "8           Yes  \n",
      "9            No  \n",
      "12          Yes  \n",
      "14           No  \n",
      "15          Yes  \n",
      "21          Yes  \n",
      "23           No  \n",
      "28           No  \n",
      "38          Yes  \n",
      "42           No  \n",
      "55           No  \n",
      "4000        Yes  \n",
      "4003        Yes  \n",
      "4004         No  \n",
      "4167         No  \n",
      "4168        Yes  \n",
      "4170        Yes  \n",
      "4334         No  \n",
      "4335         No  \n",
      "4336        Yes  \n"
     ]
    }
   ],
   "source": [
    "print(df_cleaned)"
   ]
  },
  {
   "cell_type": "code",
   "execution_count": 12,
   "id": "51f4cea5",
   "metadata": {},
   "outputs": [],
   "source": [
    "df_cleaned.to_csv(\"cleaned_dataset.csv\", index=False)"
   ]
  }
 ],
 "metadata": {
  "kernelspec": {
   "display_name": "Python 3",
   "language": "python",
   "name": "python3"
  },
  "language_info": {
   "codemirror_mode": {
    "name": "ipython",
    "version": 3
   },
   "file_extension": ".py",
   "mimetype": "text/x-python",
   "name": "python",
   "nbconvert_exporter": "python",
   "pygments_lexer": "ipython3",
   "version": "3.12.3"
  }
 },
 "nbformat": 4,
 "nbformat_minor": 5
}
